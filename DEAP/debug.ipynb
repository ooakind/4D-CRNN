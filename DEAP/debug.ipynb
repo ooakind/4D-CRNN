{
 "cells": [
  {
   "cell_type": "code",
   "execution_count": 1,
   "metadata": {},
   "outputs": [],
   "source": [
    "import numpy as np\n",
    "import scipy.io as sio\n",
    "import os\n",
    "from keras.utils.np_utils import to_categorical\n",
    "from sklearn.model_selection import train_test_split\n",
    "import tensorflow as tf\n",
    "\n",
    "from tensorflow.keras.layers import Input, Conv2D, MaxPooling2D, Dropout\n",
    "from tensorflow.keras.layers import Flatten, Dense, Concatenate, Reshape, LSTM\n",
    "from tensorflow.keras.models import Sequential, Model\n",
    "\n",
    "import keras\n",
    "import os\n",
    "os.environ[\"CUDA_VISIBLE_DEVICES\"] = \"3\"\n",
    "from keras import backend as K\n",
    "import time\n",
    "from sklearn.model_selection import StratifiedKFold"
   ]
  },
  {
   "cell_type": "code",
   "execution_count": 20,
   "metadata": {},
   "outputs": [
    {
     "name": "stdout",
     "output_type": "stream",
     "text": [
      "\n",
      "processing:  01 ......\n",
      "\n",
      "Y shape initial (4800,)\n",
      "\n",
      "Y shape tocategorical (4800, 2)\n",
      "\n",
      "Data shape: (4800, 4, 8, 9)\n",
      "\n",
      "Transpose: (4800, 8, 9, 4)\n",
      "\n",
      "Reshape: (800, 6, 8, 9, 4)\n",
      "\n",
      "Y shape (0, 2)\n",
      "\n",
      "Y shape segment (800, 2)\n"
     ]
    }
   ],
   "source": [
    "num_classes = 2\n",
    "batch_size = 128\n",
    "img_rows, img_cols, num_chan = 8, 9, 4\n",
    "flag = 'a'\n",
    "t = 6\n",
    "\n",
    "acc_list = []\n",
    "std_list = []\n",
    "all_acc = []\n",
    "\n",
    "short_name = ['01', '02', '03', '04', '05', '06', '07', '08', '09',\n",
    "              '10', '11', '12', '13', '14', '15', '16', '17', '18',\n",
    "              '19', '20', '21', '22', '23', '24', '25', '26', '27',\n",
    "              '28', '29', '30', '31', '32']\n",
    "\n",
    "# 45次实验分别进行10倍交叉验证，取平均\n",
    "i = 0\n",
    "dataset_dir = \"/home/hyojinju/4D-CRNN/DEAP/with_base_0.5/\" #\"/home/kaka/Desktop/sfy_file/eeg_emotion/nonCrossSubject/data/DEAP/with_base_0.5/\"\n",
    "\n",
    "file_path = os.path.join(dataset_dir, 'DE_s' + short_name[i] + '.dat')\n",
    "K.clear_session()\n",
    "start = time.time()\n",
    "print(\"\\nprocessing: \", short_name[i], \"......\")\n",
    "file = sio.loadmat(file_path)\n",
    "data = file['data']\n",
    "y_v = file['valence_labels'][0]\n",
    "y_a = file['arousal_labels'][0]\n",
    "print(\"\\nY shape initial\", y_v.shape)\n",
    "y_v = to_categorical(y_v, num_classes)\n",
    "y_a = to_categorical(y_a, num_classes)\n",
    "print(\"\\nY shape tocategorical\", y_v.shape)\n",
    "\n",
    "print(\"\\nData shape:\",data.shape)\n",
    "one_falx = data.transpose([0, 2, 3, 1])\n",
    "# one_falx = one_falx[:,:,:,2:4]\n",
    "print(\"\\nTranspose:\", one_falx.shape)\n",
    "one_falx = one_falx.reshape((-1, t, img_rows, img_cols, num_chan))\n",
    "print(\"\\nReshape:\", one_falx.shape)\n",
    "one_y_v = np.empty([0,2])\n",
    "print(\"\\nY shape\", one_y_v.shape)\n",
    "one_y_a = np.empty([0,2])\n",
    "for j in range(int(len(y_a)//t)):\n",
    "    one_y_v = np.vstack((one_y_v, y_v[j*t]))\n",
    "    one_y_a = np.vstack((one_y_a, y_a[j*t]))\n",
    "print(\"\\nY shape segment\", one_y_v.shape)\n",
    "\n",
    "# print(one_y_v.shape)\n",
    "# print(one_y_a.shape)\n",
    "# print(one_falx.shape)\n",
    "\n",
    "if flag=='v':\n",
    "    one_y = one_y_v\n",
    "else:\n",
    "    one_y = one_y_a\n"
   ]
  },
  {
   "cell_type": "code",
   "execution_count": 34,
   "metadata": {},
   "outputs": [
    {
     "name": "stdout",
     "output_type": "stream",
     "text": [
      "[1. 1. 1. ... 0. 0. 0.]\n"
     ]
    }
   ],
   "source": [
    "data = np.empty((0, 4, 8 ,9))\n",
    "y_v = np.empty((0,))\n",
    "y_a = np.empty((0,))\n",
    "# 45次实验分别进行10倍交叉验证，取平均\n",
    "dataset_dir = \"/home/hyojinju/4D-CRNN/DEAP/with_base_0.5/\" #\"/home/kaka/Desktop/sfy_file/eeg_emotion/nonCrossSubject/data/DEAP/with_base_0.5/\"\n",
    "for i in range(len(short_name)):\n",
    "    # K.clear_session()\n",
    "    # start = time.time()\n",
    "    # print(\"\\nprocessing: \", short_name[i], \"......\")\n",
    "    file_path = os.path.join(dataset_dir, 'DE_s'+short_name[i]+'.dat')\n",
    "    file = sio.loadmat(file_path)\n",
    "    data = np.vstack((data, file['data']))\n",
    "    y_v = np.concatenate((y_v, file['valence_labels'][0]), axis=0)\n",
    "    y_a = np.concatenate((y_a, file['arousal_labels'][0]), axis=0)\n",
    "\n",
    "    # y_v.append(file['valence_labels'][0])\n",
    "    # y_a.append(file['arousal_labels'][0])\n",
    "    #= np.vstack((y_a, file['arousal_labels'][0]))\n",
    "\n",
    "# print(data.shape)\n",
    "# print(np.array(y_v).shape)\n",
    "# print(np.array(y_a).shape)\n",
    "print(y_a[:1400])"
   ]
  },
  {
   "cell_type": "code",
   "execution_count": 26,
   "metadata": {},
   "outputs": [
    {
     "name": "stdout",
     "output_type": "stream",
     "text": [
      "stratKFold\n",
      "TRAIN: [2 3 4 5 6 7 8 9] TEST: [0 1]\n",
      "TRAIN: [0 1 4 5 6 7 8 9] TEST: [2 3]\n",
      "TRAIN: [0 1 2 3 6 7 8 9] TEST: [4 5]\n",
      "TRAIN: [0 1 2 3 4 5 8 9] TEST: [6 7]\n",
      "TRAIN: [0 1 2 3 4 5 6 7] TEST: [8 9]\n",
      "Shuffle Split\n",
      "TRAIN: [0 1 2 3 4 5 8 9] TEST: [6 7]\n",
      "TRAIN: [1 2 4 5 6 7 8 9] TEST: [0 3]\n",
      "TRAIN: [0 1 2 3 6 7 8 9] TEST: [4 5]\n",
      "TRAIN: [0 2 3 4 5 6 7 9] TEST: [1 8]\n",
      "TRAIN: [0 1 3 4 5 6 7 8] TEST: [2 9]\n"
     ]
    }
   ],
   "source": [
    "splits = 5\n",
    "\n",
    "tx = range(10)\n",
    "ty = [0,1,0,1,0,1,0,1,0,1] #[0] * 5 + [1] * 5\n",
    "\n",
    "from sklearn.model_selection import StratifiedShuffleSplit, StratifiedKFold\n",
    "from sklearn import datasets\n",
    "\n",
    "stratKfold = StratifiedKFold(n_splits=splits, shuffle=False, random_state=None)#, random_state=42)\n",
    "shufflesplit = StratifiedKFold(n_splits=splits, shuffle=True, random_state=42)#, random_state=42)\n",
    "# shufflesplit = StratifiedShuffleSplit(n_splits=splits, random_state=42, test_size=2)\n",
    "\n",
    "print(\"stratKFold\")\n",
    "for train_index, test_index in stratKfold.split(tx, ty):\n",
    "    print(\"TRAIN:\", train_index, \"TEST:\", test_index)\n",
    "\n",
    "print(\"Shuffle Split\")\n",
    "for train_index, test_index in shufflesplit.split(tx, ty):\n",
    "    print(\"TRAIN:\", train_index, \"TEST:\", test_index)\n"
   ]
  }
 ],
 "metadata": {
  "kernelspec": {
   "display_name": "hyojin_py37_tf25",
   "language": "python",
   "name": "python3"
  },
  "language_info": {
   "codemirror_mode": {
    "name": "ipython",
    "version": 3
   },
   "file_extension": ".py",
   "mimetype": "text/x-python",
   "name": "python",
   "nbconvert_exporter": "python",
   "pygments_lexer": "ipython3",
   "version": "3.7.16"
  },
  "orig_nbformat": 4
 },
 "nbformat": 4,
 "nbformat_minor": 2
}
